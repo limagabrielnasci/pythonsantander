{
 "cells": [
  {
   "cell_type": "markdown",
   "id": "58a181cc-c440-4a11-9832-d1830f3892c2",
   "metadata": {},
   "source": [
    "<b>Estruturas Condicionais<b>"
   ]
  },
  {
   "cell_type": "markdown",
   "id": "c0342a3e-a862-4417-84ef-b05b97966ce7",
   "metadata": {},
   "source": [
    "<b>If<b>"
   ]
  },
  {
   "cell_type": "code",
   "execution_count": 9,
   "id": "3e91c446-2aed-4592-954c-e494fed167f8",
   "metadata": {},
   "outputs": [
    {
     "name": "stdout",
     "output_type": "stream",
     "text": [
      "maior de idade\n"
     ]
    }
   ],
   "source": [
    "idade = 19\n",
    "if idade > 18:\n",
    "    print(\"maior de idade\")"
   ]
  },
  {
   "cell_type": "markdown",
   "id": "ca909bbe-4fb6-4e16-8035-af9b95ab0ce2",
   "metadata": {},
   "source": [
    "<b>If e Else<b>"
   ]
  },
  {
   "cell_type": "code",
   "execution_count": 10,
   "id": "d94773fd-4dbd-469a-8c97-17d0228db87d",
   "metadata": {},
   "outputs": [
    {
     "name": "stdout",
     "output_type": "stream",
     "text": [
      "maior de idade\n"
     ]
    }
   ],
   "source": [
    "idade = 19\n",
    "if idade >= 18:\n",
    "    print(\"maior de idade\")\n",
    "else:\n",
    "    print(\"menor de idade\")"
   ]
  },
  {
   "cell_type": "markdown",
   "id": "a4076508-87a4-482e-86e8-c6f299ed68ef",
   "metadata": {},
   "source": [
    "<b>If, Elif, Else<b>"
   ]
  },
  {
   "cell_type": "code",
   "execution_count": 11,
   "id": "5bc6289b-4fb8-43ed-a517-e83331448efb",
   "metadata": {},
   "outputs": [
    {
     "name": "stdout",
     "output_type": "stream",
     "text": [
      "Muito bom\n"
     ]
    }
   ],
   "source": [
    "nota = 85\n",
    "\n",
    "if nota >= 90:\n",
    "   print (\"Excelente\")\n",
    "\n",
    "elif nota >= 80:\n",
    "   print (\"Muito bom\")\n",
    "\n",
    "elif nota >= 70:\n",
    "   print (\"Bom\")\n",
    "\n",
    "else:\n",
    "   print (\"Precisa melhorar\")"
   ]
  }
 ],
 "metadata": {
  "kernelspec": {
   "display_name": "Python 3 (ipykernel)",
   "language": "python",
   "name": "python3"
  },
  "language_info": {
   "codemirror_mode": {
    "name": "ipython",
    "version": 3
   },
   "file_extension": ".py",
   "mimetype": "text/x-python",
   "name": "python",
   "nbconvert_exporter": "python",
   "pygments_lexer": "ipython3",
   "version": "3.13.2"
  }
 },
 "nbformat": 4,
 "nbformat_minor": 5
}
