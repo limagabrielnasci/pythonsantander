{
 "cells": [
  {
   "cell_type": "code",
   "execution_count": null,
   "id": "c292d516-fe6c-4ec1-884a-3fcad9d9366f",
   "metadata": {},
   "outputs": [],
   "source": [
    "print(\"Olá, Mundo!\")"
   ]
  }
 ],
 "metadata": {
  "kernelspec": {
   "display_name": "Python 3 (ipykernel)",
   "language": "python",
   "name": "python3"
  },
  "language_info": {
   "codemirror_mode": {
    "name": "ipython",
    "version": 3
   },
   "file_extension": ".py",
   "mimetype": "text/x-python",
   "name": "python",
   "nbconvert_exporter": "python",
   "pygments_lexer": "ipython3",
   "version": "3.13.2"
  }
 },
 "nbformat": 4,
 "nbformat_minor": 5
}
