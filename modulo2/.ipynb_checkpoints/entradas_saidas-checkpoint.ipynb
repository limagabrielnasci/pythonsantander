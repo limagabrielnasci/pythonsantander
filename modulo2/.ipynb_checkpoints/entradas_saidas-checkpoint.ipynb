{
 "cells": [
  {
   "cell_type": "code",
   "execution_count": 2,
   "id": "a327450a-1bbd-4a4a-82f8-9023e575cc88",
   "metadata": {},
   "outputs": [
    {
     "name": "stdin",
     "output_type": "stream",
     "text": [
      "insira seu nome:  gabriel\n",
      "insira sua idade:  19\n"
     ]
    },
    {
     "name": "stdout",
     "output_type": "stream",
     "text": [
      "olá, gabriel!\n",
      "você tem 19 anos.\n"
     ]
    }
   ],
   "source": [
    "nome = input('insira seu nome: ')\n",
    "idade = input('insira sua idade: ')\n",
    "\n",
    "print('olá, ' + nome + '!')\n",
    "print('você tem ' + idade + ' anos.')"
   ]
  },
  {
   "cell_type": "code",
   "execution_count": 3,
   "id": "ae217b5d-5e7e-4a97-b1fa-407624e91257",
   "metadata": {},
   "outputs": [
    {
     "name": "stdin",
     "output_type": "stream",
     "text": [
      "insira sua idade:  19\n"
     ]
    },
    {
     "name": "stdout",
     "output_type": "stream",
     "text": [
      "Você é maior de idade.\n"
     ]
    }
   ],
   "source": [
    "idade = int(input('insira sua idade: '))\n",
    "if idade >= 18:\n",
    "    print(\"Você é maior de idade.\")\n",
    "else:\n",
    "    print(\"Você é menor de idade.\")"
   ]
  },
  {
   "cell_type": "code",
   "execution_count": 4,
   "id": "e4b75363-d7db-407b-b413-1f49c6ce124b",
   "metadata": {},
   "outputs": [
    {
     "name": "stdout",
     "output_type": "stream",
     "text": [
      "Olá, meu nome é Maria e tenho 25 anos.\n"
     ]
    }
   ],
   "source": [
    "nome = \"Maria\"\n",
    "idade = 25\n",
    "\n",
    "\n",
    "print(f\"Olá, meu nome é {nome} e tenho {idade} anos.\")"
   ]
  }
 ],
 "metadata": {
  "kernelspec": {
   "display_name": "Python 3 (ipykernel)",
   "language": "python",
   "name": "python3"
  },
  "language_info": {
   "codemirror_mode": {
    "name": "ipython",
    "version": 3
   },
   "file_extension": ".py",
   "mimetype": "text/x-python",
   "name": "python",
   "nbconvert_exporter": "python",
   "pygments_lexer": "ipython3",
   "version": "3.13.2"
  }
 },
 "nbformat": 4,
 "nbformat_minor": 5
}
