{
 "cells": [
  {
   "cell_type": "markdown",
   "id": "da3a0042-7957-477d-8656-9db5c776ec8a",
   "metadata": {},
   "source": [
    "Para utilizar um módulo em nosso programa, devemos importá-lo utilizando a declaração import. Podemos importar um módulo completo ou funções específicas de um módulo."
   ]
  },
  {
   "cell_type": "code",
   "execution_count": 3,
   "id": "d8dc362c-0afa-495e-80cb-82a536e99002",
   "metadata": {},
   "outputs": [
    {
     "name": "stdout",
     "output_type": "stream",
     "text": [
      "5.0\n"
     ]
    }
   ],
   "source": [
    "import math\n",
    "resultado = math.sqrt(25)\n",
    "print(resultado)"
   ]
  },
  {
   "cell_type": "code",
   "execution_count": 4,
   "id": "132e9b37-19f7-4b28-a2b8-c060adc73350",
   "metadata": {},
   "outputs": [
    {
     "name": "stdout",
     "output_type": "stream",
     "text": [
      "5.0\n"
     ]
    }
   ],
   "source": [
    "from math import sqrt\n",
    "\n",
    "\n",
    "resultado = sqrt(25)\n",
    "print(resultado)  # Imprime 5.0"
   ]
  },
  {
   "cell_type": "markdown",
   "id": "2cd744cf-3b79-41ac-bfb9-16b40f9f72e1",
   "metadata": {},
   "source": [
    "Funções e classes de módulos padrão<br>\n",
    "A biblioteca padrão de Python oferece uma ampla gama de módulos com funções e classes úteis. Alguns exemplos comuns incluem:"
   ]
  },
  {
   "cell_type": "code",
   "execution_count": 6,
   "id": "b9fbe269-90c2-41ba-9f95-3ffe0f1dd11a",
   "metadata": {},
   "outputs": [
    {
     "name": "stdout",
     "output_type": "stream",
     "text": [
      "1\n",
      "2025-03-07 09:08:15.511025\n"
     ]
    }
   ],
   "source": [
    "import random\n",
    "import datetime\n",
    "\n",
    "\n",
    "numero_aleatorio = random.randint(1, 10)\n",
    "print(numero_aleatorio)  # Imprime um número inteiro aleatório entre 1 e 10\n",
    "\n",
    "\n",
    "data_atual = datetime.datetime.now()\n",
    "print(data_atual)  # Imprime a data e hora atual"
   ]
  }
 ],
 "metadata": {
  "kernelspec": {
   "display_name": "Python 3 (ipykernel)",
   "language": "python",
   "name": "python3"
  },
  "language_info": {
   "codemirror_mode": {
    "name": "ipython",
    "version": 3
   },
   "file_extension": ".py",
   "mimetype": "text/x-python",
   "name": "python",
   "nbconvert_exporter": "python",
   "pygments_lexer": "ipython3",
   "version": "3.13.2"
  }
 },
 "nbformat": 4,
 "nbformat_minor": 5
}
