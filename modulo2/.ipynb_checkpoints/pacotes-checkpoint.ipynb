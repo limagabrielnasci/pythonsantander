{
 "cells": [
  {
   "cell_type": "markdown",
   "id": "4b069c89-8724-494b-9467-8660b852f714",
   "metadata": {},
   "source": [
    "Criar e utilizar pacotes<br>\n",
    "Para criar um pacote, criamos um diretório com o nome desejado e adicionamos um arquivo especial chamado __init__.py dentro do diretório. Este arquivo pode estar vazio ou conter código de inicialização do pacote.\n",
    "\n",
    "Por exemplo, criamos um diretório chamado meu_pacote com a seguinte estrutura:"
   ]
  },
  {
   "cell_type": "code",
   "execution_count": null,
   "id": "cb599748-f4e7-4818-a398-a3e6fec05656",
   "metadata": {},
   "outputs": [],
   "source": [
    "meu_pacote/\n",
    "    __init__.py\n",
    "    modulo1.py\n",
    "    modulo2.py"
   ]
  },
  {
   "cell_type": "code",
   "execution_count": null,
   "id": "6989348e-c71d-4a9a-b64d-f9667b9de0aa",
   "metadata": {},
   "outputs": [],
   "source": [
    "from meu_pacote import modulo1, modulo2\n",
    "\n",
    "\n",
    "modulo1.funcao1()\n",
    "modulo2.funcao2()"
   ]
  }
 ],
 "metadata": {
  "kernelspec": {
   "display_name": "Python 3 (ipykernel)",
   "language": "python",
   "name": "python3"
  },
  "language_info": {
   "codemirror_mode": {
    "name": "ipython",
    "version": 3
   },
   "file_extension": ".py",
   "mimetype": "text/x-python",
   "name": "python",
   "nbconvert_exporter": "python",
   "pygments_lexer": "ipython3",
   "version": "3.13.2"
  }
 },
 "nbformat": 4,
 "nbformat_minor": 5
}
