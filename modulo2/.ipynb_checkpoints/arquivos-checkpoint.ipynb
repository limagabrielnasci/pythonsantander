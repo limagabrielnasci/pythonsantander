{
 "cells": [
  {
   "cell_type": "markdown",
   "id": "d21abd2e-e645-46d0-9b04-25aa7efdd6c5",
   "metadata": {},
   "source": [
    "Lendo arquivos"
   ]
  },
  {
   "cell_type": "code",
   "execution_count": 8,
   "id": "e474d422-bf92-48c8-9e86-52d8b2454c43",
   "metadata": {},
   "outputs": [
    {
     "name": "stdout",
     "output_type": "stream",
     "text": [
      "Gabriel\n"
     ]
    }
   ],
   "source": [
    "arquivo = open(\"dados.txt\", \"r\")\n",
    "conteudo = arquivo.read()\n",
    "print(conteudo)\n",
    "arquivo.close()"
   ]
  },
  {
   "cell_type": "markdown",
   "id": "f883f1f1-b46f-4a44-8070-095321d12b82",
   "metadata": {},
   "source": [
    "Escrita de arquivos"
   ]
  },
  {
   "cell_type": "code",
   "execution_count": 7,
   "id": "6628555b-1b25-4440-bd72-8b2b137e82fd",
   "metadata": {},
   "outputs": [],
   "source": [
    "arquivo = open(\"dados.txt\", \"w\")\n",
    "arquivo.write(\"Gabriel\")\n",
    "arquivo.close()"
   ]
  }
 ],
 "metadata": {
  "kernelspec": {
   "display_name": "Python 3 (ipykernel)",
   "language": "python",
   "name": "python3"
  },
  "language_info": {
   "codemirror_mode": {
    "name": "ipython",
    "version": 3
   },
   "file_extension": ".py",
   "mimetype": "text/x-python",
   "name": "python",
   "nbconvert_exporter": "python",
   "pygments_lexer": "ipython3",
   "version": "3.13.2"
  }
 },
 "nbformat": 4,
 "nbformat_minor": 5
}
