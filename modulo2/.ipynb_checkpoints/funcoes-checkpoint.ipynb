{
 "cells": [
  {
   "cell_type": "markdown",
   "id": "0cb18bf6-1ff3-4efa-bf8e-28544d9e0a97",
   "metadata": {},
   "source": [
    "Para definir uma função em Python, utilizamos a palavra-chave def seguida do nome da função e parênteses. Opcionalmente, podemos especificar parâmetros dentro dos parênteses. O bloco de código da função é indentado após os dois pontos.\n",
    "\n",
    "Para chamar uma função, simplesmente escrevemos o nome da função seguido de parênteses:"
   ]
  },
  {
   "cell_type": "code",
   "execution_count": 1,
   "id": "109c89f5-dabc-48b5-a39c-d98260a3350a",
   "metadata": {},
   "outputs": [
    {
     "name": "stdout",
     "output_type": "stream",
     "text": [
      "Olá, mundo!\n"
     ]
    }
   ],
   "source": [
    "def saudacao():\n",
    "    print(\"Olá, mundo!\")\n",
    "\n",
    "saudacao()"
   ]
  },
  {
   "cell_type": "markdown",
   "id": "4c23a0db-2e26-485e-b1c6-068b813411e9",
   "metadata": {},
   "source": [
    "Parâmetros e argumentos"
   ]
  },
  {
   "cell_type": "code",
   "execution_count": 3,
   "id": "11a5c1f5-7218-4358-a26b-573ecdef95ca",
   "metadata": {},
   "outputs": [
    {
     "name": "stdout",
     "output_type": "stream",
     "text": [
      "Olá. Gabriel!\n"
     ]
    }
   ],
   "source": [
    "def saudacao(nome):\n",
    "    print(f'Olá. {nome}!')\n",
    "saudacao('Gabriel')"
   ]
  },
  {
   "cell_type": "markdown",
   "id": "3dc5162e-5ef1-44dc-9a24-c5cf8fd920ba",
   "metadata": {},
   "source": [
    "Valores de retorno"
   ]
  },
  {
   "cell_type": "code",
   "execution_count": 4,
   "id": "090433b6-26bc-4647-98e6-5dbff58bef28",
   "metadata": {},
   "outputs": [
    {
     "name": "stdout",
     "output_type": "stream",
     "text": [
      "7\n"
     ]
    }
   ],
   "source": [
    "def soma(a, b):\n",
    "    return a + b\n",
    "resultado = soma(5,2)\n",
    "print(resultado)"
   ]
  },
  {
   "cell_type": "markdown",
   "id": "2a14e0f6-e6a7-4d3c-ba24-0f250c14948e",
   "metadata": {},
   "source": [
    "Funções anônimas (lambda)"
   ]
  },
  {
   "cell_type": "code",
   "execution_count": 5,
   "id": "78ea6057-4b25-4a9b-aeb8-b37508b82ad1",
   "metadata": {},
   "outputs": [
    {
     "name": "stdout",
     "output_type": "stream",
     "text": [
      "25\n"
     ]
    }
   ],
   "source": [
    "quadrado = lambda x: x ** 2\n",
    "print(quadrado(5))"
   ]
  },
  {
   "cell_type": "markdown",
   "id": "b9c68ef1-7262-44ff-bf77-4cfaa1e8414e",
   "metadata": {},
   "source": [
    "Variável local vs global"
   ]
  },
  {
   "cell_type": "code",
   "execution_count": 7,
   "id": "234a9a03-0d5a-489e-8655-600f4dad75a6",
   "metadata": {},
   "outputs": [
    {
     "name": "stdout",
     "output_type": "stream",
     "text": [
      "10\n",
      "20\n",
      "20\n"
     ]
    }
   ],
   "source": [
    "def funcao():\n",
    "    variavel_local = 10\n",
    "    print(variavel_local)  # Acessível dentro da função\n",
    "\n",
    "\n",
    "variavel_global = 20\n",
    "\n",
    "\n",
    "def funcao2():\n",
    "    print(variavel_global)  # Acessível de qualquer lugar\n",
    "\n",
    "\n",
    "funcao()  # Imprime 10\n",
    "funcao2()  # Imprime 20\n",
    "print(variavel_global)  # Imprime 20\n",
    "#print(variavel_local)  # Gera um erro, a variável não está definida neste escopo."
   ]
  },
  {
   "cell_type": "markdown",
   "id": "4864e256-9d1f-4f63-8957-de62605963a6",
   "metadata": {},
   "source": [
    "Funções com número variável de argumentos"
   ]
  },
  {
   "cell_type": "code",
   "execution_count": 8,
   "id": "cdcbbc15-d6db-4d03-bcb8-870ab0f584ad",
   "metadata": {},
   "outputs": [
    {
     "name": "stdout",
     "output_type": "stream",
     "text": [
      "6\n",
      "22\n"
     ]
    }
   ],
   "source": [
    "def soma_variavel(*numeros):\n",
    "    total = 0\n",
    "    for numero in numeros:\n",
    "        total += numero\n",
    "    return total\n",
    "\n",
    "\n",
    "print(soma_variavel(1, 2, 3))  # Imprime 6\n",
    "print(soma_variavel(4, 5, 6, 7))  # Imprime 22"
   ]
  }
 ],
 "metadata": {
  "kernelspec": {
   "display_name": "Python 3 (ipykernel)",
   "language": "python",
   "name": "python3"
  },
  "language_info": {
   "codemirror_mode": {
    "name": "ipython",
    "version": 3
   },
   "file_extension": ".py",
   "mimetype": "text/x-python",
   "name": "python",
   "nbconvert_exporter": "python",
   "pygments_lexer": "ipython3",
   "version": "3.13.2"
  }
 },
 "nbformat": 4,
 "nbformat_minor": 5
}
