{
 "cells": [
  {
   "cell_type": "markdown",
   "id": "561c9a63-7880-4ebd-898b-63eface30d8e",
   "metadata": {},
   "source": [
    "Try<br>\n",
    "O bloco try contém o código que pode gerar uma exceção. Se ocorrer uma exceção dentro do bloco try, o fluxo de execução é transferido para o bloco except correspondente."
   ]
  },
  {
   "cell_type": "code",
   "execution_count": 5,
   "id": "71e82b08-022c-48cf-bf09-0d8fdacf3f90",
   "metadata": {},
   "outputs": [
    {
     "name": "stdout",
     "output_type": "stream",
     "text": [
      "Erro: divisão por zero\n"
     ]
    }
   ],
   "source": [
    "try:\n",
    "    resultado = 10 / 0\n",
    "    print(resultado)\n",
    "except ZeroDivisionError:\n",
    "    print(\"Erro: divisão por zero\")"
   ]
  },
  {
   "cell_type": "markdown",
   "id": "f061ada5-8ce1-4ef4-b9d7-6b7985da4b87",
   "metadata": {},
   "source": [
    "Except<br>\n",
    "O bloco except especifica o tipo de exceção que se deseja capturar e lidar. Você pode ter múltiplos blocos except para lidar com diferentes tipos de exceções."
   ]
  },
  {
   "cell_type": "code",
   "execution_count": 9,
   "id": "f534c55b-8874-47cf-a616-9fb7a7fe51ef",
   "metadata": {},
   "outputs": [
    {
     "name": "stdout",
     "output_type": "stream",
     "text": [
      "Erro: divisão por zero\n"
     ]
    }
   ],
   "source": [
    "try:\n",
    "    resultado = 10 / 0\n",
    "    print(resultado)\n",
    "except ZeroDivisionError:\n",
    "    print(\"Erro: divisão por zero\")\n",
    "except ValueError:\n",
    "    print(\"Erro: valor inválido\")"
   ]
  },
  {
   "cell_type": "markdown",
   "id": "cb9c383a-8a94-45ae-b004-1c4836bd7fe0",
   "metadata": {},
   "source": [
    "Finally<br>\n",
    "O bloco finally é opcional e é executado sempre, independentemente de ter ocorrido uma exceção ou não. É comumente utilizado para realizar tarefas de limpeza ou liberação de recursos."
   ]
  },
  {
   "cell_type": "code",
   "execution_count": null,
   "id": "e1d3e1e4-6ff1-4451-98e3-b724bef8a17a",
   "metadata": {},
   "outputs": [],
   "source": [
    "try:\n",
    "    # Código que pode gerar uma exceção\n",
    "    arquivo = open(\"arquivo.txt\", \"r\")\n",
    "    # Realizar operações com o arquivo\n",
    "except FileNotFoundError:\n",
    "    print(\"Erro: Arquivo não encontrado\")\n",
    "finally:\n",
    "    arquivo.close()  # Fechar o arquivo sempre, mesmo se ocorrer uma exceção"
   ]
  },
  {
   "cell_type": "markdown",
   "id": "41d4ce03-20c7-44b6-87c6-b2f54e783b28",
   "metadata": {},
   "source": [
    "Exceções personalizadas"
   ]
  },
  {
   "cell_type": "code",
   "execution_count": null,
   "id": "86fee9c4-f1d2-4af8-9e00-a392d0efe0e0",
   "metadata": {},
   "outputs": [],
   "source": [
    "def funcao():\n",
    "    # Código que pode gerar uma exceção personalizada\n",
    "    if condicao:\n",
    "        raise Exception(\"Descrição do erro\")\n",
    "\n",
    "\n",
    "try:\n",
    "    funcao()\n",
    "except Exception as e:\n",
    "    print(f\"Erro: {str(e)}\")"
   ]
  }
 ],
 "metadata": {
  "kernelspec": {
   "display_name": "Python 3 (ipykernel)",
   "language": "python",
   "name": "python3"
  },
  "language_info": {
   "codemirror_mode": {
    "name": "ipython",
    "version": 3
   },
   "file_extension": ".py",
   "mimetype": "text/x-python",
   "name": "python",
   "nbconvert_exporter": "python",
   "pygments_lexer": "ipython3",
   "version": "3.13.2"
  }
 },
 "nbformat": 4,
 "nbformat_minor": 5
}
