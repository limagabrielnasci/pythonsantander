{
 "cells": [
  {
   "cell_type": "markdown",
   "id": "1c2d8848-3fc2-467e-acfb-01e46187c57d",
   "metadata": {},
   "source": [
    "Para criar um módulo personalizado, simplesmente criamos um novo arquivo Python com o nome desejado e definimos as funções, classes e variáveis que queremos incluir no módulo. Por exemplo, criamos um arquivo (no mesmo diretório onde estamos executando Python) chamado meu_modulo.py com o seguinte conteúdo:"
   ]
  },
  {
   "cell_type": "code",
   "execution_count": 1,
   "id": "eacc81ba-898d-4ded-8193-a24ef2f9ee59",
   "metadata": {},
   "outputs": [],
   "source": [
    "#meu_modulo.py\n",
    "def saudar(nome):\n",
    "    print(f\"Olá, {nome}!\")\n",
    "\n",
    "\n",
    "def calcular_soma(a, b):\n",
    "    return a + b"
   ]
  },
  {
   "cell_type": "code",
   "execution_count": null,
   "id": "32050617-997d-4ff4-ab5c-7298137e47c1",
   "metadata": {},
   "outputs": [],
   "source": [
    "import meu_modulo\n",
    "\n",
    "\n",
    "meu_modulo.saudar(\"João\")  # Imprime \"Olá, João!\"\n",
    "resultado = meu_modulo.calcular_soma(5, 3)\n",
    "print(resultado)  # Imprime 8"
   ]
  },
  {
   "cell_type": "code",
   "execution_count": null,
   "id": "16cbeabe-b6bb-4bdc-9295-49f50a0ce890",
   "metadata": {},
   "outputs": [],
   "source": [
    "# operacoes.py\n",
    "def somar(a, b):\n",
    "    return a + b\n",
    "\n",
    "\n",
    "def subtrair(a, b):\n",
    "    return a - b\n",
    "\n",
    "\n",
    "# utilidades.py\n",
    "def imprimir_mensagem(mensagem):\n",
    "    print(mensagem)\n",
    "\n",
    "\n",
    "def obter_nome_usuario():\n",
    "    return input(\"Digite seu nome: \")"
   ]
  },
  {
   "cell_type": "code",
   "execution_count": null,
   "id": "57f29ad4-a988-40a3-908c-26722136a3c7",
   "metadata": {},
   "outputs": [],
   "source": [
    "import operacoes\n",
    "import utilidades\n",
    "\n",
    "\n",
    "resultado = operacoes.somar(5, 3)\n",
    "utilidades.imprimir_mensagem(f\"O resultado da soma é: {resultado}\")\n",
    "\n",
    "\n",
    "nome = utilidades.obter_nome_usuario()\n",
    "utilidades.imprimir_mensagem(f\"Olá, {nome}!\")"
   ]
  }
 ],
 "metadata": {
  "kernelspec": {
   "display_name": "Python 3 (ipykernel)",
   "language": "python",
   "name": "python3"
  },
  "language_info": {
   "codemirror_mode": {
    "name": "ipython",
    "version": 3
   },
   "file_extension": ".py",
   "mimetype": "text/x-python",
   "name": "python",
   "nbconvert_exporter": "python",
   "pygments_lexer": "ipython3",
   "version": "3.13.2"
  }
 },
 "nbformat": 4,
 "nbformat_minor": 5
}
