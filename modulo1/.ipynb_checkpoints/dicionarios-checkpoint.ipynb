{
 "cells": [
  {
   "cell_type": "markdown",
   "id": "7d6ed216-a7c6-4027-8709-6efd721daabd",
   "metadata": {},
   "source": [
    "Criação e acesso"
   ]
  },
  {
   "cell_type": "code",
   "execution_count": 2,
   "id": "8b77f756-df07-4f1f-8ad3-a3a1b12de966",
   "metadata": {},
   "outputs": [
    {
     "name": "stdout",
     "output_type": "stream",
     "text": [
      "João\n",
      "25\n",
      "Madri\n"
     ]
    }
   ],
   "source": [
    "pessoa = {'nome': 'João', 'idade': 25, 'cidade': 'Madri'}\n",
    "\n",
    "print(pessoa[\"nome\"])  # Imprime \"João\"\n",
    "print(pessoa[\"idade\"])    # Imprime 25\n",
    "print(pessoa[\"cidade\"])  # Imprime \"Madri\""
   ]
  },
  {
   "cell_type": "markdown",
   "id": "e4613ced-1a97-4f43-9ae0-fd06561028f6",
   "metadata": {},
   "source": [
    "Métodos de dicionários\n",
    "Os dicionários em Python têm vários métodos incorporados para manipular e acessar os elementos. Alguns métodos comuns são:\n",
    "\n",
    "keys(): retorna uma visualização de todas as chaves do dicionário.<br>\n",
    "values(): retorna uma visualização de todos os valores do dicionário.<br>\n",
    "items(): retorna uma visualização de todos os pares chave-valor do dicionário.<br>\n",
    "update(outro_dicionario): atualiza o dicionário com os pares chave-valor de outro dicionário.<br>"
   ]
  },
  {
   "cell_type": "code",
   "execution_count": 3,
   "id": "51123f2e-7fd7-4e2c-9c5f-fb814307f59e",
   "metadata": {},
   "outputs": [
    {
     "name": "stdout",
     "output_type": "stream",
     "text": [
      "dict_keys(['nome', 'idade', 'cidade'])\n",
      "dict_values(['João', 25, 'Madri'])\n",
      "dict_items([('nome', 'João'), ('idade', 25), ('cidade', 'Madri')])\n",
      "{'nome': 'João', 'idade': 25, 'cidade': 'Madri', 'profissao': 'Engenheiro'}\n"
     ]
    }
   ],
   "source": [
    "pessoa = {\"nome\": \"João\", \"idade\": 25, \"cidade\": \"Madri\"}\n",
    "\n",
    "\n",
    "print(pessoa.keys())    # Imprime dict_keys([\"nome\", \"idade\", \"cidade\"])\n",
    "print(pessoa.values())  # Imprime dict_values([\"João\", 25, \"Madri\"])\n",
    "print(pessoa.items())   # Imprime dict_items([(\"nome\", \"João\"), (\"idade\", 25), (\"cidade\", \"Madri\")])\n",
    "\n",
    "\n",
    "pessoa.update({\"profissao\": \"Engenheiro\"})\n",
    "print(pessoa)  # Imprime {\"nome\": \"João\", \"idade\": 25, \"cidade\": \"Madri\", \"profissao\": \"Engenheiro\"}"
   ]
  }
 ],
 "metadata": {
  "kernelspec": {
   "display_name": "Python 3 (ipykernel)",
   "language": "python",
   "name": "python3"
  },
  "language_info": {
   "codemirror_mode": {
    "name": "ipython",
    "version": 3
   },
   "file_extension": ".py",
   "mimetype": "text/x-python",
   "name": "python",
   "nbconvert_exporter": "python",
   "pygments_lexer": "ipython3",
   "version": "3.13.2"
  }
 },
 "nbformat": 4,
 "nbformat_minor": 5
}
