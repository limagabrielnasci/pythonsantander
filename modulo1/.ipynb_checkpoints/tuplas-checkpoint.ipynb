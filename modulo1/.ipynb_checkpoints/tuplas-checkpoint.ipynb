{
 "cells": [
  {
   "cell_type": "markdown",
   "id": "30c529c2-bb2e-4bca-a58a-e1464929e69a",
   "metadata": {},
   "source": [
    "Criação e acesso"
   ]
  },
  {
   "cell_type": "code",
   "execution_count": 1,
   "id": "ee797c2e-7ab3-44e0-9595-47338e343131",
   "metadata": {},
   "outputs": [
    {
     "name": "stdout",
     "output_type": "stream",
     "text": [
      "3\n",
      "4\n"
     ]
    }
   ],
   "source": [
    "ponto = (3, 4)\n",
    "print(ponto[0])\n",
    "print(ponto[1])"
   ]
  },
  {
   "cell_type": "markdown",
   "id": "9afaaa73-813a-4443-92e9-40fb3dfa30b4",
   "metadata": {},
   "source": [
    "Métodos de tuplas\n",
    "Embora as tuplas sejam imutáveis, Python fornece vários métodos úteis para trabalhar com elas:\n",
    "\n",
    "count(elemento): devolve o número de vezes que um elemento aparece na tupla.<br>\n",
    "index(elemento): devolve o índice da primeira aparição de um elemento na tupla. Opcionalmente, pode-se especificar o início e fim da busca.<br>\n",
    "len(tupla): embora não seja um método de tupla propriamente dito, esta função incorporada devolve o comprimento da tupla."
   ]
  },
  {
   "cell_type": "code",
   "execution_count": 5,
   "id": "bb36a4c0-385e-431d-9370-7dc2e38bd7f6",
   "metadata": {},
   "outputs": [
    {
     "name": "stdout",
     "output_type": "stream",
     "text": [
      "1\n",
      "3\n",
      "3\n"
     ]
    }
   ],
   "source": [
    "minha_tupla = (1, 2, 3, 2, 4, 2)\n",
    "\n",
    "print (minha_tupla.index(2))   # Saída: 1\n",
    "print (minha_tupla.index(2, 2))   #Saída: 3\n",
    "\n",
    "print (minha_tupla.index(2, 2, 4))   #Saída: 3"
   ]
  }
 ],
 "metadata": {
  "kernelspec": {
   "display_name": "Python 3 (ipykernel)",
   "language": "python",
   "name": "python3"
  },
  "language_info": {
   "codemirror_mode": {
    "name": "ipython",
    "version": 3
   },
   "file_extension": ".py",
   "mimetype": "text/x-python",
   "name": "python",
   "nbconvert_exporter": "python",
   "pygments_lexer": "ipython3",
   "version": "3.13.2"
  }
 },
 "nbformat": 4,
 "nbformat_minor": 5
}
