{
 "cells": [
  {
   "cell_type": "markdown",
   "id": "5e9efc0d-e46b-4b83-b737-b05ed55bf730",
   "metadata": {},
   "source": [
    "Criação e operações básicas"
   ]
  },
  {
   "cell_type": "code",
   "execution_count": 1,
   "id": "322b1ad8-17b4-42cc-99bf-e94c8d9452d1",
   "metadata": {},
   "outputs": [],
   "source": [
    "frutas = {'maça', 'banana', 'laranja'}\n",
    "numeros = set([1, 2, 3, 4, 5])"
   ]
  },
  {
   "cell_type": "markdown",
   "id": "0c4a7152-1c74-41c7-86bb-c10034cc36ce",
   "metadata": {},
   "source": [
    "Os conjuntos suportam operações matemáticas de conjuntos, como a união (|), a interseção (&), a diferença (-) e a diferença simétrica (^)."
   ]
  },
  {
   "cell_type": "code",
   "execution_count": 2,
   "id": "68e5bdfa-8a4a-48ad-99cc-c99d1a6a9362",
   "metadata": {},
   "outputs": [
    {
     "name": "stdout",
     "output_type": "stream",
     "text": [
      "{1, 2, 3, 4, 5}\n",
      "{3}\n",
      "{1, 2}\n",
      "{1, 2, 4, 5}\n"
     ]
    }
   ],
   "source": [
    "conjunto1 = {1, 2, 3}\n",
    "conjunto2 = {3, 4, 5}\n",
    "\n",
    "\n",
    "uniao = conjunto1 | conjunto2\n",
    "print(uniao)  # Imprime {1, 2, 3, 4, 5}\n",
    "\n",
    "\n",
    "intersecao = conjunto1 & conjunto2\n",
    "print(intersecao)  # Imprime {3}\n",
    "\n",
    "\n",
    "diferenca = conjunto1 - conjunto2\n",
    "print(diferenca)  # Imprime {1, 2}\n",
    "\n",
    "\n",
    "diferenca_simetrica = conjunto1 ^ conjunto2\n",
    "print(diferenca_simetrica)  # Imprime {1, 2, 4, 5}"
   ]
  },
  {
   "cell_type": "markdown",
   "id": "e69e10bf-b731-479b-8ff4-fd680a489ca1",
   "metadata": {},
   "source": [
    "Métodos de conjuntos\n",
    "Os conjuntos em Python têm vários métodos incorporados para manipular e acessar os elementos. Alguns métodos comuns são:\n",
    "\n",
    "add(elemento): adiciona um elemento ao conjunto.<br>\n",
    "remove(elemento): remove um elemento do conjunto. Se o elemento não existir, gera um erro.<br>\n",
    "discard(elemento): remove um elemento do conjunto se estiver presente. Se o elemento não existir, não faz nada.<br>\n",
    "clear(): remove todos os elementos do conjunto."
   ]
  },
  {
   "cell_type": "code",
   "execution_count": 3,
   "id": "a8dea8a1-f462-468e-97cf-91796514ce46",
   "metadata": {},
   "outputs": [
    {
     "name": "stdout",
     "output_type": "stream",
     "text": [
      "{'pera', 'maçã', 'laranja', 'banana'}\n",
      "{'pera', 'maçã', 'laranja'}\n",
      "{'pera', 'maçã', 'laranja'}\n",
      "set()\n"
     ]
    }
   ],
   "source": [
    "frutas = {\"maçã\", \"banana\", \"laranja\"}\n",
    "\n",
    "\n",
    "frutas.add(\"pera\")\n",
    "print(frutas)  # Imprime {\"maçã\", \"banana\", \"laranja\", \"pera\"}\n",
    "\n",
    "\n",
    "frutas.remove(\"banana\")\n",
    "print(frutas)  # Imprime {\"maçã\", \"laranja\", \"pera\"}\n",
    "\n",
    "\n",
    "frutas.discard(\"uva\")\n",
    "print(frutas)  # Imprime {\"maçã\", \"laranja\", \"pera\"}\n",
    "\n",
    "\n",
    "frutas.clear()\n",
    "print(frutas)  # Imprime set()"
   ]
  }
 ],
 "metadata": {
  "kernelspec": {
   "display_name": "Python 3 (ipykernel)",
   "language": "python",
   "name": "python3"
  },
  "language_info": {
   "codemirror_mode": {
    "name": "ipython",
    "version": 3
   },
   "file_extension": ".py",
   "mimetype": "text/x-python",
   "name": "python",
   "nbconvert_exporter": "python",
   "pygments_lexer": "ipython3",
   "version": "3.13.2"
  }
 },
 "nbformat": 4,
 "nbformat_minor": 5
}
