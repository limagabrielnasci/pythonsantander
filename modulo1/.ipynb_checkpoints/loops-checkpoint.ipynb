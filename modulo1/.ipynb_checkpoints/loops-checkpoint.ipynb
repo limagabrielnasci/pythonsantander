{
 "cells": [
  {
   "cell_type": "markdown",
   "id": "5877824a-0e8f-4964-bec2-ee779ce48fc9",
   "metadata": {},
   "source": [
    "<b>For<b>"
   ]
  },
  {
   "cell_type": "code",
   "execution_count": 1,
   "id": "c9179caf-043f-42c5-b097-e76e4e4966a4",
   "metadata": {},
   "outputs": [
    {
     "name": "stdout",
     "output_type": "stream",
     "text": [
      "maça\n",
      "pera\n",
      "banana\n"
     ]
    }
   ],
   "source": [
    "frutas = [\"maça\", \"pera\", \"banana\"]\n",
    "for fruta in frutas:\n",
    "    print(fruta)"
   ]
  },
  {
   "cell_type": "markdown",
   "id": "40b67f45-90d5-492a-b8a9-bac412bf84e3",
   "metadata": {},
   "source": [
    "<b>While<b>"
   ]
  },
  {
   "cell_type": "code",
   "execution_count": 3,
   "id": "fa8387f4-f7fc-4952-b0e4-04ee134fb9f3",
   "metadata": {},
   "outputs": [
    {
     "name": "stdout",
     "output_type": "stream",
     "text": [
      "0\n",
      "1\n",
      "2\n",
      "3\n",
      "4\n"
     ]
    }
   ],
   "source": [
    "contador = 0\n",
    "while contador < 5:\n",
    "    print(contador)\n",
    "    contador += 1"
   ]
  },
  {
   "cell_type": "markdown",
   "id": "a94248c5-4e06-473e-9541-b9ada249774f",
   "metadata": {},
   "source": [
    "<b>Controle de loops<b>"
   ]
  },
  {
   "cell_type": "markdown",
   "id": "03de7b0f-73bc-4865-88a9-8d7e3e0ff143",
   "metadata": {},
   "source": [
    "<b>Break<b>"
   ]
  },
  {
   "cell_type": "code",
   "execution_count": 5,
   "id": "a83ed655-b89a-4b9c-b654-108c2e574821",
   "metadata": {},
   "outputs": [
    {
     "name": "stdout",
     "output_type": "stream",
     "text": [
      "0\n",
      "1\n",
      "2\n",
      "3\n",
      "4\n"
     ]
    }
   ],
   "source": [
    "contador = 0\n",
    "while True:\n",
    "    print(contador)\n",
    "    contador += 1\n",
    "    if contador == 5:\n",
    "        break"
   ]
  },
  {
   "cell_type": "markdown",
   "id": "a059f4cf-0189-4662-b261-8ccde05ef5d2",
   "metadata": {},
   "source": [
    "<b>Continue<b>"
   ]
  },
  {
   "cell_type": "code",
   "execution_count": 8,
   "id": "680d283f-92c7-45de-8873-5e6dfff5db7a",
   "metadata": {},
   "outputs": [
    {
     "name": "stdout",
     "output_type": "stream",
     "text": [
      "1\n",
      "3\n",
      "5\n",
      "7\n",
      "9\n"
     ]
    }
   ],
   "source": [
    "for i in range(10):\n",
    "\n",
    "    if i % 2 == 0:\n",
    "        continue\n",
    "    print(i)"
   ]
  },
  {
   "cell_type": "markdown",
   "id": "7f91bd19-19bd-474a-837f-dd3a08f95b76",
   "metadata": {},
   "source": [
    "<b>Pass<b>"
   ]
  },
  {
   "cell_type": "code",
   "execution_count": 9,
   "id": "890a2aa0-7aca-45a8-ae21-2a125f134c49",
   "metadata": {},
   "outputs": [],
   "source": [
    "for i in range(5):\n",
    "    pass"
   ]
  }
 ],
 "metadata": {
  "kernelspec": {
   "display_name": "Python 3 (ipykernel)",
   "language": "python",
   "name": "python3"
  },
  "language_info": {
   "codemirror_mode": {
    "name": "ipython",
    "version": 3
   },
   "file_extension": ".py",
   "mimetype": "text/x-python",
   "name": "python",
   "nbconvert_exporter": "python",
   "pygments_lexer": "ipython3",
   "version": "3.13.2"
  }
 },
 "nbformat": 4,
 "nbformat_minor": 5
}
