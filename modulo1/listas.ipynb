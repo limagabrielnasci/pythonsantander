{
 "cells": [
  {
   "cell_type": "markdown",
   "id": "ad48d6a9-9f67-440c-b529-696c6a665d6d",
   "metadata": {},
   "source": [
    "<b>Listas<b>"
   ]
  },
  {
   "cell_type": "markdown",
   "id": "e8156797-9e19-44d6-aa5a-8b86cf5e8a0a",
   "metadata": {},
   "source": [
    "Criação e acesso"
   ]
  },
  {
   "cell_type": "code",
   "execution_count": 1,
   "id": "6920083e-a80f-415d-988c-efd0a97dffa1",
   "metadata": {},
   "outputs": [],
   "source": [
    "frutas = ['maça', 'pera', 'banana']"
   ]
  },
  {
   "cell_type": "markdown",
   "id": "57f8bef1-648f-43c7-8342-966a3c343d79",
   "metadata": {},
   "source": [
    "Para acessar os elementos de uma lista, utilize o índice do elemento entre colchetes. Os índices começam a partir de 0."
   ]
  },
  {
   "cell_type": "code",
   "execution_count": 2,
   "id": "6b6abe6b-5e4d-4a95-84aa-f6c022a0d5f3",
   "metadata": {},
   "outputs": [
    {
     "name": "stdout",
     "output_type": "stream",
     "text": [
      "maça\n",
      "pera\n",
      "banana\n"
     ]
    }
   ],
   "source": [
    "print(frutas[0])\n",
    "print(frutas[1])\n",
    "print(frutas[2])"
   ]
  },
  {
   "cell_type": "markdown",
   "id": "3ad54c16-7363-47d6-8926-228605d5b9f6",
   "metadata": {},
   "source": [
    "Métodos de listas<br>\n",
    "As listas em Python têm vários métodos incorporados que nos permitem manipular e modificar os elementos da lista. Alguns métodos comuns são:\n",
    "\n",
    "append(elemento): adiciona um elemento ao final da lista.<br>\n",
    "insert(indice, elemento): insere um elemento em uma posição específica da lista.<br>\n",
    "remove(elemento): remove a primeira ocorrência de um elemento na lista.<br>\n",
    "pop(indice): remove e retorna o elemento em uma posição específica da lista.<br>\n",
    "sort(): ordena os elementos da lista em ordem ascendente.<br>\n",
    "reverse(): inverte a ordem dos elementos na lista.<br>"
   ]
  },
  {
   "cell_type": "code",
   "execution_count": 3,
   "id": "b801cefd-61e0-4528-8707-3ae0c93d432b",
   "metadata": {},
   "outputs": [
    {
     "name": "stdout",
     "output_type": "stream",
     "text": [
      "['maçã', 'banana', 'laranja', 'pera']\n",
      "['maçã', 'uva', 'banana', 'laranja', 'pera']\n",
      "['maçã', 'uva', 'laranja', 'pera']\n",
      "['maçã', 'uva', 'pera']\n",
      "laranja\n",
      "['maçã', 'pera', 'uva']\n",
      "['uva', 'pera', 'maçã']\n"
     ]
    }
   ],
   "source": [
    "frutas = [\"maçã\", \"banana\", \"laranja\"]\n",
    "\n",
    "frutas.append(\"pera\")\n",
    "print(frutas)  # Imprime [\"maçã\", \"banana\", \"laranja\", \"pera\"]\n",
    "\n",
    "frutas.insert(1, \"uva\")\n",
    "print(frutas)  # Imprime [\"maçã\", \"uva\", \"banana\", \"laranja\", \"pera\"]\n",
    "\n",
    "frutas.remove(\"banana\")\n",
    "print(frutas)  # Imprime [\"maçã\", \"uva\", \"laranja\", \"pera\"]\n",
    "\n",
    "fruta_removida = frutas.pop(2)\n",
    "print(frutas)  # Imprime [\"maçã\", \"uva\", \"pera\"]\n",
    "print(fruta_removida)  # Imprime \"laranja\"\n",
    "\n",
    "frutas.sort()\n",
    "print(frutas)  # Imprime [\"maçã\", \"pera\", \"uva\"]\n",
    "\n",
    "frutas.reverse()\n",
    "print(frutas)  # Imprime [\"uva\", \"pera\", \"maçã\"]"
   ]
  },
  {
   "cell_type": "markdown",
   "id": "fd1a0313-6234-4241-9fdb-2ecabb68d9cb",
   "metadata": {},
   "source": [
    "Listas de compreensão"
   ]
  },
  {
   "cell_type": "code",
   "execution_count": 8,
   "id": "be1446b8-a0e4-4f50-9e19-cdd6b4f567a6",
   "metadata": {},
   "outputs": [
    {
     "name": "stdout",
     "output_type": "stream",
     "text": [
      "[4, 16]\n"
     ]
    }
   ],
   "source": [
    "números = [1, 2, 3, 4, 5]\n",
    "quadrados = [numero ** 2 for numero in números if numero % 2 == 0]\n",
    "print(quadrados)  # Imprime [4, 16]"
   ]
  }
 ],
 "metadata": {
  "kernelspec": {
   "display_name": "Python 3 (ipykernel)",
   "language": "python",
   "name": "python3"
  },
  "language_info": {
   "codemirror_mode": {
    "name": "ipython",
    "version": 3
   },
   "file_extension": ".py",
   "mimetype": "text/x-python",
   "name": "python",
   "nbconvert_exporter": "python",
   "pygments_lexer": "ipython3",
   "version": "3.13.2"
  }
 },
 "nbformat": 4,
 "nbformat_minor": 5
}
